{
  "nbformat": 4,
  "nbformat_minor": 0,
  "metadata": {
    "colab": {
      "provenance": []
    },
    "kernelspec": {
      "name": "python3",
      "display_name": "Python 3"
    },
    "language_info": {
      "name": "python"
    }
  },
  "cells": [
    {
      "cell_type": "code",
      "execution_count": 3,
      "metadata": {
        "colab": {
          "base_uri": "https://localhost:8080/"
        },
        "id": "uTGDEAFB8fS6",
        "outputId": "c62e47f5-145b-4c70-ebe5-b34ae2a72cc2"
      },
      "outputs": [
        {
          "output_type": "stream",
          "name": "stdout",
          "text": [
            "Test 1:\n",
            "Input: [2, 2, 2, 2, 2]\n",
            "Output: [2]\n",
            "\n",
            "Test 2:\n",
            "Input: [1, 2, 3, 4, 5, 4, 4, 5, 5]\n",
            "Output: [1, 2, 3, 4, 5]\n",
            "\n"
          ]
        }
      ],
      "source": [
        "class Solution:\n",
        "    def removeDuplicates(self, nums):\n",
        "        # Handle empty array case\n",
        "        if not nums:\n",
        "            return 0\n",
        "\n",
        "        # Initialize pointer for unique elements\n",
        "        unique_ptr = 1\n",
        "\n",
        "        # Iterate through array starting from second element\n",
        "        for i in range(1, len(nums)):\n",
        "            # If current element is different from previous element\n",
        "            if nums[i] != nums[i-1]:\n",
        "                # Place current element at unique_ptr position\n",
        "                nums[unique_ptr] = nums[i]\n",
        "                unique_ptr += 1\n",
        "\n",
        "        return unique_ptr\n",
        "\n",
        "# Test function\n",
        "def test_remove_duplicates():\n",
        "    solution = Solution()\n",
        "\n",
        "    # Test Case 1: All same elements\n",
        "    test1 = [2, 2, 2, 2, 2]\n",
        "    len1 = solution.removeDuplicates(test1)\n",
        "    print(\"Test 1:\")\n",
        "    print(\"Input:\", test1)\n",
        "    print(\"Output:\", test1[:len1])\n",
        "    print()\n",
        "\n",
        "    # Test Case 2: Mixed elements with duplicates\n",
        "    test2 = [1, 2, 2, 3, 4, 4, 4, 5, 5]\n",
        "    len2 = solution.removeDuplicates(test2)\n",
        "    print(\"Test 2:\")\n",
        "    print(\"Input:\", test2)\n",
        "    print(\"Output:\", test2[:len2])\n",
        "    print()\n",
        "\n",
        "\n",
        "\n",
        "# Run tests\n",
        "if __name__ == \"__main__\":\n",
        "    test_remove_duplicates()"
      ]
    },
    {
      "cell_type": "code",
      "source": [],
      "metadata": {
        "id": "92Jv4yTD87mJ"
      },
      "execution_count": null,
      "outputs": []
    }
  ]
}