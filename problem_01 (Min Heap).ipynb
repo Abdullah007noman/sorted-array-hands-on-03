{
  "nbformat": 4,
  "nbformat_minor": 0,
  "metadata": {
    "colab": {
      "provenance": []
    },
    "kernelspec": {
      "name": "python3",
      "display_name": "Python 3"
    },
    "language_info": {
      "name": "python"
    }
  },
  "cells": [
    {
      "cell_type": "code",
      "execution_count": 1,
      "metadata": {
        "colab": {
          "base_uri": "https://localhost:8080/"
        },
        "id": "td85WLb1ym77",
        "outputId": "d6436cb4-2441-4a07-db77-b91b093f1a64"
      },
      "outputs": [
        {
          "output_type": "stream",
          "name": "stdout",
          "text": [
            "Test case 1:\n",
            "Input: [[1, 3, 5, 7], [2, 4, 6, 8], [0, 9, 10, 11]]\n",
            "Output: [0, 1, 2, 3, 4, 5, 6, 7, 8, 9, 10, 11]\n",
            "\n",
            "Test case 2:\n",
            "Input: [[1, 3, 7], [2, 4, 8], [9, 10, 11]]\n",
            "Output: [1, 2, 3, 4, 7, 8, 9, 10, 11]\n"
          ]
        }
      ],
      "source": [
        "from heapq import heappush, heappop\n",
        "\n",
        "def merge_k_sorted_arrays(arrays):\n",
        "\n",
        "    # Result array to store merged elements\n",
        "    result = []\n",
        "\n",
        "    # Min-heap to keep track of smallest elements\n",
        "    min_heap = []\n",
        "\n",
        "    # Initialize the heap with first element from each array\n",
        "    # Store (element, array_index, element_index) in heap\n",
        "    for i, array in enumerate(arrays):\n",
        "        if array:  # Check if array is not empty\n",
        "            heappush(min_heap, (array[0], i, 0))\n",
        "\n",
        "    # Process elements until heap is empty\n",
        "    while min_heap:\n",
        "        val, array_idx, elem_idx = heappop(min_heap)\n",
        "        result.append(val)\n",
        "\n",
        "        # If there are more elements in the array, add the next element to heap\n",
        "        if elem_idx + 1 < len(arrays[array_idx]):\n",
        "            next_elem = arrays[array_idx][elem_idx + 1]\n",
        "            heappush(min_heap, (next_elem, array_idx, elem_idx + 1))\n",
        "\n",
        "    return result\n",
        "\n",
        "# Test function\n",
        "def test_merge_k_sorted_arrays():\n",
        "    # Test case 1\n",
        "    arrays1 = [\n",
        "        [1, 3, 5, 7],\n",
        "        [2, 4, 6, 8],\n",
        "        [0, 9, 10, 11]\n",
        "    ]\n",
        "    result1 = merge_k_sorted_arrays(arrays1)\n",
        "    print(\"Test case 1:\")\n",
        "    print(\"Input:\", arrays1)\n",
        "    print(\"Output:\", result1)\n",
        "    print()\n",
        "\n",
        "    # Test case 2\n",
        "    arrays2 = [\n",
        "        [1, 3, 7],\n",
        "        [2, 4, 8],\n",
        "        [9, 10, 11]\n",
        "    ]\n",
        "    result2 = merge_k_sorted_arrays(arrays2)\n",
        "    print(\"Test case 2:\")\n",
        "    print(\"Input:\", arrays2)\n",
        "    print(\"Output:\", result2)\n",
        "\n",
        "# Run tests\n",
        "if __name__ == \"__main__\":\n",
        "    test_merge_k_sorted_arrays()"
      ]
    },
    {
      "cell_type": "code",
      "source": [],
      "metadata": {
        "id": "2Cfe5d-wyn-L"
      },
      "execution_count": null,
      "outputs": []
    }
  ]
}