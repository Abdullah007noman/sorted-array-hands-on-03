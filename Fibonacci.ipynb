{
  "nbformat": 4,
  "nbformat_minor": 0,
  "metadata": {
    "colab": {
      "provenance": []
    },
    "kernelspec": {
      "name": "python3",
      "display_name": "Python 3"
    },
    "language_info": {
      "name": "python"
    }
  },
  "cells": [
    {
      "cell_type": "code",
      "execution_count": 1,
      "metadata": {
        "id": "ZQuAWAYn4fuN",
        "outputId": "6f2e5161-7868-4b14-b712-b24074d87fdd",
        "colab": {
          "base_uri": "https://localhost:8080/"
        }
      },
      "outputs": [
        {
          "output_type": "stream",
          "name": "stdout",
          "text": [
            "fib(5):\n",
            "Entering fib(5)\n",
            "Computing fib(4)\n",
            "  Entering fib(4)\n",
            "  Computing fib(3)\n",
            "    Entering fib(3)\n",
            "    Computing fib(2)\n",
            "      Entering fib(2)\n",
            "      Computing fib(1)\n",
            "        Entering fib(1)\n",
            "        fib(1) returns 1\n",
            "      Computing fib(0)\n",
            "        Entering fib(0)\n",
            "        fib(0) returns 0\n",
            "      fib(2) returns 1\n",
            "    Computing fib(1)\n",
            "      Entering fib(1)\n",
            "      fib(1) returns 1\n",
            "    fib(3) returns 2\n",
            "  Computing fib(2)\n",
            "    Entering fib(2)\n",
            "    Computing fib(1)\n",
            "      Entering fib(1)\n",
            "      fib(1) returns 1\n",
            "    Computing fib(0)\n",
            "      Entering fib(0)\n",
            "      fib(0) returns 0\n",
            "    fib(2) returns 1\n",
            "  fib(4) returns 3\n",
            "Computing fib(3)\n",
            "  Entering fib(3)\n",
            "  Computing fib(2)\n",
            "    Entering fib(2)\n",
            "    Computing fib(1)\n",
            "      Entering fib(1)\n",
            "      fib(1) returns 1\n",
            "    Computing fib(0)\n",
            "      Entering fib(0)\n",
            "      fib(0) returns 0\n",
            "    fib(2) returns 1\n",
            "  Computing fib(1)\n",
            "    Entering fib(1)\n",
            "    fib(1) returns 1\n",
            "  fib(3) returns 2\n",
            "fib(5) returns 5\n",
            "\n",
            "Final result: 5\n"
          ]
        }
      ],
      "source": [
        "def fib(n):\n",
        "    # Base cases\n",
        "    if n == 0:\n",
        "        return 0\n",
        "    if n == 1:\n",
        "        return 1\n",
        "    # Recursive case exactly as specified\n",
        "    return fib(n-1) + fib(n-2)\n",
        "\n",
        "# Debug function to track recursive calls\n",
        "def debug_fib(n, indent=0):\n",
        "    # Print current function call\n",
        "    print(\" \" * indent + f\"Entering fib({n})\")\n",
        "\n",
        "    # Base cases\n",
        "    if n == 0:\n",
        "        print(\" \" * indent + f\"fib({n}) returns 0\")\n",
        "        return 0\n",
        "    if n == 1:\n",
        "        print(\" \" * indent + f\"fib({n}) returns 1\")\n",
        "        return 1\n",
        "\n",
        "    # Recursive case\n",
        "    print(\" \" * indent + f\"Computing fib({n-1})\")\n",
        "    first = debug_fib(n-1, indent + 2)\n",
        "    print(\" \" * indent + f\"Computing fib({n-2})\")\n",
        "    second = debug_fib(n-2, indent + 2)\n",
        "    result = first + second\n",
        "    print(\" \" * indent + f\"fib({n}) returns {result}\")\n",
        "    return result\n",
        "\n",
        "# Test with fib(5)\n",
        "print(\"fib(5):\")\n",
        "result = debug_fib(5)\n",
        "print(f\"\\nFinal result: {result}\")"
      ]
    },
    {
      "cell_type": "code",
      "source": [],
      "metadata": {
        "id": "xW7DVoGD4gtf"
      },
      "execution_count": null,
      "outputs": []
    }
  ]
}